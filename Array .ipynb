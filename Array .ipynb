{
 "cells": [
  {
   "cell_type": "code",
   "execution_count": 5,
   "id": "e499723c",
   "metadata": {},
   "outputs": [
    {
     "name": "stdout",
     "output_type": "stream",
     "text": [
      "The created array : 2 4 5 \r\n"
     ]
    }
   ],
   "source": [
    "#create array in python \n",
    "#creation array we have to use array library of python\n",
    "import array as arr\n",
    "arr=arr.array('i',[2,4,5])\n",
    "\n",
    "print(\"The created array :\" ,end=\" \")\n",
    "for i in range(0,3):\n",
    "    print(arr[i],end=\" \")\n",
    "print(\"\\r\")"
   ]
  },
  {
   "cell_type": "code",
   "execution_count": 7,
   "id": "99b7b027",
   "metadata": {},
   "outputs": [
    {
     "name": "stdout",
     "output_type": "stream",
     "text": [
      "The created array: 3 8 9 6 7 \r\n"
     ]
    }
   ],
   "source": [
    "import array as arr\n",
    "arr=arr.array('i',[3,8,9,6,7])\n",
    "print(\"The created array:\",end=\" \")\n",
    "for i in range(0,5):\n",
    "    print(arr[i],end=\" \")\n",
    "print(\"\\r\")"
   ]
  },
  {
   "cell_type": "code",
   "execution_count": 11,
   "id": "7cbb7e61",
   "metadata": {},
   "outputs": [
    {
     "name": "stdout",
     "output_type": "stream",
     "text": [
      "The Created Array: 7 9 3 4 5 \r\n",
      "The appended array : 7 9 3 4 5 8 \r\n",
      "The Inserted values: 7 9 3 4 10 5 8 \r\n"
     ]
    }
   ],
   "source": [
    "# for append any value into array we have to use append() function\n",
    "import array as arr \n",
    "arr=arr.array('i',[7,9,3,4,5])\n",
    "print(\"The Created Array:\",end=\" \")\n",
    "for i in range(0,5):\n",
    "    print(arr[i],end=\" \")\n",
    "print(\"\\r\")\n",
    "arr.append(8);\n",
    "print(\"The appended array :\",end=\" \")\n",
    "for i in range(0,6):\n",
    "    print(arr[i],end=\" \")\n",
    "print('\\r')\n",
    "\n",
    "#insert function use to insert value into particular position\n",
    "arr.insert(4,10)\n",
    "print(\"The Inserted values:\",end=\" \")\n",
    "for i in range (0,7):\n",
    "    print(arr[i],end=\" \")\n",
    "print('\\r')"
   ]
  },
  {
   "cell_type": "code",
   "execution_count": null,
   "id": "0024c1b4",
   "metadata": {},
   "outputs": [],
   "source": []
  }
 ],
 "metadata": {
  "kernelspec": {
   "display_name": "Python 3 (ipykernel)",
   "language": "python",
   "name": "python3"
  },
  "language_info": {
   "codemirror_mode": {
    "name": "ipython",
    "version": 3
   },
   "file_extension": ".py",
   "mimetype": "text/x-python",
   "name": "python",
   "nbconvert_exporter": "python",
   "pygments_lexer": "ipython3",
   "version": "3.11.1"
  }
 },
 "nbformat": 4,
 "nbformat_minor": 5
}
