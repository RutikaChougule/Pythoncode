{
 "cells": [
  {
   "cell_type": "code",
   "execution_count": 9,
   "id": "067076d7",
   "metadata": {},
   "outputs": [
    {
     "name": "stdout",
     "output_type": "stream",
     "text": [
      "10\n",
      "0\n",
      "1\n",
      "1\n",
      "2\n",
      "3\n",
      "5\n",
      "8\n",
      "13\n",
      "21\n",
      "34\n"
     ]
    }
   ],
   "source": [
    "def fibnnosi(n):\n",
    "    x=0\n",
    "    y=1\n",
    "    for i in range(1,n+1):\n",
    "        print(x)\n",
    "        sum=x+y\n",
    "        x=y\n",
    "        y=sum\n",
    "fibnnosi(n=int(input()))\n"
   ]
  },
  {
   "cell_type": "code",
   "execution_count": null,
   "id": "bf63e507",
   "metadata": {},
   "outputs": [],
   "source": []
  }
 ],
 "metadata": {
  "kernelspec": {
   "display_name": "Python 3 (ipykernel)",
   "language": "python",
   "name": "python3"
  },
  "language_info": {
   "codemirror_mode": {
    "name": "ipython",
    "version": 3
   },
   "file_extension": ".py",
   "mimetype": "text/x-python",
   "name": "python",
   "nbconvert_exporter": "python",
   "pygments_lexer": "ipython3",
   "version": "3.11.1"
  }
 },
 "nbformat": 4,
 "nbformat_minor": 5
}
